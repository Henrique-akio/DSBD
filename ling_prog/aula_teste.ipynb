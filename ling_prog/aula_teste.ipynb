{
 "cells": [
  {
   "cell_type": "code",
   "execution_count": 4,
   "metadata": {},
   "outputs": [
    {
     "name": "stdout",
     "output_type": "stream",
     "text": [
      "0\n",
      "1\n",
      "2\n",
      "3\n",
      "4\n",
      "5\n"
     ]
    }
   ],
   "source": [
    "palavra = \"Python\"\n",
    "for i in range(len(palavra)):\n",
    " print(i)\n",
    "\n"
   ]
  },
  {
   "cell_type": "code",
   "execution_count": 5,
   "metadata": {},
   "outputs": [
    {
     "name": "stdout",
     "output_type": "stream",
     "text": [
      "P\n",
      "y\n",
      "t\n",
      "h\n",
      "o\n",
      "n\n"
     ]
    }
   ],
   "source": [
    "palavra = \"Python\"\n",
    "for letra in palavra:\n",
    " print(letra)"
   ]
  },
  {
   "cell_type": "code",
   "execution_count": 6,
   "metadata": {},
   "outputs": [
    {
     "ename": "ValueError",
     "evalue": "invalid literal for int() with base 10: ''",
     "output_type": "error",
     "traceback": [
      "\u001b[0;31m---------------------------------------------------------------------------\u001b[0m",
      "\u001b[0;31mValueError\u001b[0m                                Traceback (most recent call last)",
      "Cell \u001b[0;32mIn[6], line 1\u001b[0m\n\u001b[0;32m----> 1\u001b[0m n \u001b[39m=\u001b[39m \u001b[39mint\u001b[39;49m(\u001b[39minput\u001b[39;49m(\u001b[39m\"\u001b[39;49m\u001b[39mDigite um número inteiro: \u001b[39;49m\u001b[39m\"\u001b[39;49m))\n\u001b[1;32m      2\u001b[0m \u001b[39mwhile\u001b[39;00m (n \u001b[39m>\u001b[39m \u001b[39m0\u001b[39m):\n\u001b[1;32m      3\u001b[0m  \u001b[39mprint\u001b[39m(n)\n",
      "\u001b[0;31mValueError\u001b[0m: invalid literal for int() with base 10: ''"
     ]
    }
   ],
   "source": [
    "n = int(input(\"Digite um número inteiro: \"))\n",
    "while (n > 0):\n",
    " print(n)\n",
    " n -= 1 #equivalente a n = n-1\n",
    "print(\"Tempo esgotado!\")"
   ]
  },
  {
   "cell_type": "code",
   "execution_count": 9,
   "metadata": {},
   "outputs": [
    {
     "data": {
      "text/plain": [
       "dict_items([('guarda-roupa', 3), ('televisão', 2), ('cadeira', 4), ('mesa', 1)])"
      ]
     },
     "execution_count": 9,
     "metadata": {},
     "output_type": "execute_result"
    }
   ],
   "source": [
    "dic = {'guarda-roupa': 3, 'televisão': 2, 'cadeira': 4,\n",
    "'mesa': 1}\n",
    "dic.keys()\n",
    "dic.values()\n",
    "dic.items()"
   ]
  },
  {
   "cell_type": "code",
   "execution_count": 15,
   "metadata": {},
   "outputs": [
    {
     "data": {
      "text/plain": [
       "[4, 3, 3, 2, 1]"
      ]
     },
     "execution_count": 15,
     "metadata": {},
     "output_type": "execute_result"
    }
   ],
   "source": [
    "lista_original = [ 1,2,3,3,4]\n",
    "lista_invertida = lista_original[::-1]\n",
    "lista_invertida\n",
    "\n"
   ]
  },
  {
   "cell_type": "code",
   "execution_count": 20,
   "metadata": {},
   "outputs": [
    {
     "data": {
      "text/plain": [
       "{'maçã': None, 'banana': None, 'cereja': None, 'damasco': None}"
      ]
     },
     "execution_count": 20,
     "metadata": {},
     "output_type": "execute_result"
    }
   ],
   "source": [
    "lista_com_duplicatas = [\"maçã\", \"banana\", \"cereja\", \"banana\", \"maçã\", \"damasco\", \"cereja\"]\n",
    "# lista_sem_duplicatas = list(dict.fromkeys(lista_com_duplicatas))\n",
    "lista_sem_duplicatas = dict.fromkeys(lista_com_duplicatas)\n",
    "lista_sem_duplicatas\n",
    "\n",
    "# print(lista_sem_duplicatas)\n"
   ]
  },
  {
   "cell_type": "code",
   "execution_count": 21,
   "metadata": {},
   "outputs": [
    {
     "name": "stdout",
     "output_type": "stream",
     "text": [
      "[(1, 3), (2, 1), (3, 4)]\n"
     ]
    }
   ],
   "source": [
    "L1 = [1, 2, 3]\n",
    "L2 = [3, 1, 4]\n",
    "combinadas = list(zip(L1, L2))\n",
    "print(combinadas)\n"
   ]
  },
  {
   "cell_type": "code",
   "execution_count": 24,
   "metadata": {},
   "outputs": [
    {
     "name": "stdout",
     "output_type": "stream",
     "text": [
      "maçã\n",
      "banana\n",
      "cereja\n",
      "banana\n",
      "cereja\n",
      "cereja\n",
      "{'maçã': 1, 'banana': 2, 'cereja': 3}\n"
     ]
    }
   ],
   "source": [
    "palavras = [\"maçã\", \"banana\", \"cereja\", \"banana\", \"cereja\", \"cereja\"]\n",
    "contagem = {}\n",
    "for palavra in palavras:\n",
    "    if palavra in contagem:\n",
    "        contagem[palavra] += 1\n",
    "        print(palavra)\n",
    "\n",
    "    else:\n",
    "        print(palavra)        \n",
    "        contagem[palavra] = 1\n",
    "print(contagem)\n",
    "\n",
    "\n"
   ]
  },
  {
   "cell_type": "code",
   "execution_count": 97,
   "metadata": {},
   "outputs": [
    {
     "name": "stdout",
     "output_type": "stream",
     "text": [
      "25\n"
     ]
    }
   ],
   "source": [
    "numbers = (1, 2, 3, 4, 5, 6, 7, 8, 9, 9, 8, 8, 2, 4, 5, 4, 9, 9, 12, 4, 4, 4, 4, 4, 4, 4, 4, 4, 4, 40, 44, 4, 4, 4)\n",
    "count_even = 0 \n",
    "\n",
    "for n in numbers:\n",
    "    if n % 2 == 0:\n",
    "        count_even += 1\n",
    "print(count_even)"
   ]
  },
  {
   "cell_type": "code",
   "execution_count": 98,
   "metadata": {},
   "outputs": [
    {
     "name": "stdout",
     "output_type": "stream",
     "text": [
      "25\n"
     ]
    }
   ],
   "source": [
    "numbers = (1, 2, 3, 4, 5, 6, 7, 8, 9, 9, 8, 8, 2, 4, 5, 4, 9, 9, 12, 4, 4, 4, 4, 4, 4, 4, 4, 4, 4, 40, 44, 4, 4, 4)\n",
    "contador_pares = 0\n",
    "\n",
    "for numero in numbers:\n",
    "    if numero % 2 == 0:\n",
    "        contador_pares += 1\n",
    "\n",
    "print(contador_pares)\n"
   ]
  },
  {
   "cell_type": "code",
   "execution_count": null,
   "metadata": {},
   "outputs": [],
   "source": []
  }
 ],
 "metadata": {
  "kernelspec": {
   "display_name": "Python 3",
   "language": "python",
   "name": "python3"
  },
  "language_info": {
   "codemirror_mode": {
    "name": "ipython",
    "version": 3
   },
   "file_extension": ".py",
   "mimetype": "text/x-python",
   "name": "python",
   "nbconvert_exporter": "python",
   "pygments_lexer": "ipython3",
   "version": "3.9.6"
  },
  "orig_nbformat": 4
 },
 "nbformat": 4,
 "nbformat_minor": 2
}
